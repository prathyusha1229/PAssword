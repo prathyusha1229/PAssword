{
 "cells": [
  {
   "cell_type": "code",
   "execution_count": null,
   "id": "26fa2d71",
   "metadata": {},
   "outputs": [],
   "source": [
    "import random\n",
    "\n",
    "char1 = 'abcdefghijklmnopqrstuvwxyz'\n",
    "char2 = char1.upper()\n",
    "dig = '0123456789'\n",
    "sch = '!@#$%^&*()+'\n",
    "\n",
    "n = int(input(\"Enter the length of the password (8/12/16): \"))\n",
    "while n not in [8, 12, 16]:\n",
    "    print(\"Enter a valid number\")\n",
    "    n = int(input(\"Try again: \"))\n",
    "\n",
    "ch = char1 + char2 + dig + sch\n",
    "\n",
    "pwd = ''.join(random.choices(char1, k=2) +\n",
    "              random.choices(char2, k=2) +\n",
    "              random.choices(dig, k=2) +\n",
    "              random.choices(sch, k=2) +\n",
    "              random.choices(ch, k=n - 8))\n",
    "pwd = ''.join(random.sample(pwd, len(pwd)))\n",
    "\n",
    "print(pwd)"
   ]
  }
 ],
 "metadata": {
  "kernelspec": {
   "display_name": "Python 3 (ipykernel)",
   "language": "python",
   "name": "python3"
  },
  "language_info": {
   "codemirror_mode": {
    "name": "ipython",
    "version": 3
   },
   "file_extension": ".py",
   "mimetype": "text/x-python",
   "name": "python",
   "nbconvert_exporter": "python",
   "pygments_lexer": "ipython3",
   "version": "3.9.13"
  }
 },
 "nbformat": 4,
 "nbformat_minor": 5
}
